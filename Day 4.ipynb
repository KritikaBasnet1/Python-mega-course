{
 "cells": [
  {
   "cell_type": "markdown",
   "id": "760cd7e6",
   "metadata": {},
   "source": [
    "# List"
   ]
  },
  {
   "cell_type": "markdown",
   "id": "85442bbf",
   "metadata": {},
   "source": [
    "collection of elements is list"
   ]
  },
  {
   "cell_type": "code",
   "execution_count": 1,
   "id": "dd6fc4b1",
   "metadata": {},
   "outputs": [],
   "source": [
    "x=[1,2,3,4]"
   ]
  },
  {
   "cell_type": "code",
   "execution_count": 8,
   "id": "ef989cf8",
   "metadata": {},
   "outputs": [],
   "source": [
    "lst=[1,2,3,'hi',2.3,'kri','Hexcode']"
   ]
  },
  {
   "cell_type": "code",
   "execution_count": 9,
   "id": "b0afa591",
   "metadata": {},
   "outputs": [
    {
     "data": {
      "text/plain": [
       "list"
      ]
     },
     "execution_count": 9,
     "metadata": {},
     "output_type": "execute_result"
    }
   ],
   "source": [
    "type(lst)"
   ]
  },
  {
   "cell_type": "code",
   "execution_count": 10,
   "id": "1385bfee",
   "metadata": {},
   "outputs": [
    {
     "data": {
      "text/plain": [
       "3"
      ]
     },
     "execution_count": 10,
     "metadata": {},
     "output_type": "execute_result"
    }
   ],
   "source": [
    "lst[2]"
   ]
  },
  {
   "cell_type": "code",
   "execution_count": 11,
   "id": "fe01a975",
   "metadata": {},
   "outputs": [
    {
     "data": {
      "text/plain": [
       "int"
      ]
     },
     "execution_count": 11,
     "metadata": {},
     "output_type": "execute_result"
    }
   ],
   "source": [
    "type(lst[2])"
   ]
  },
  {
   "cell_type": "code",
   "execution_count": 12,
   "id": "e48889bf",
   "metadata": {},
   "outputs": [
    {
     "data": {
      "text/plain": [
       "str"
      ]
     },
     "execution_count": 12,
     "metadata": {},
     "output_type": "execute_result"
    }
   ],
   "source": [
    "type(lst[5])"
   ]
  },
  {
   "cell_type": "code",
   "execution_count": 15,
   "id": "7ef852f7",
   "metadata": {},
   "outputs": [
    {
     "data": {
      "text/plain": [
       "'kri Hexcode'"
      ]
     },
     "execution_count": 15,
     "metadata": {},
     "output_type": "execute_result"
    }
   ],
   "source": [
    "lst[5]+' '+lst[6]"
   ]
  },
  {
   "cell_type": "code",
   "execution_count": 16,
   "id": "5c3b1329",
   "metadata": {},
   "outputs": [
    {
     "data": {
      "text/plain": [
       "7"
      ]
     },
     "execution_count": 16,
     "metadata": {},
     "output_type": "execute_result"
    }
   ],
   "source": [
    "len(lst)"
   ]
  },
  {
   "cell_type": "code",
   "execution_count": 19,
   "id": "d929a704",
   "metadata": {},
   "outputs": [
    {
     "data": {
      "text/plain": [
       "[3, 'hi', 2.3, 'kri']"
      ]
     },
     "execution_count": 19,
     "metadata": {},
     "output_type": "execute_result"
    }
   ],
   "source": [
    "lst[2:6]"
   ]
  },
  {
   "cell_type": "code",
   "execution_count": 31,
   "id": "7382122d",
   "metadata": {},
   "outputs": [],
   "source": [
    "lst1=[]        #empty list to append characters"
   ]
  },
  {
   "cell_type": "code",
   "execution_count": 32,
   "id": "999a88f9",
   "metadata": {},
   "outputs": [],
   "source": [
    "lst1.append('hex')      #adding character in list"
   ]
  },
  {
   "cell_type": "code",
   "execution_count": 33,
   "id": "de4bdb85",
   "metadata": {},
   "outputs": [
    {
     "name": "stdout",
     "output_type": "stream",
     "text": [
      "['hex']\n"
     ]
    }
   ],
   "source": [
    "print(lst1)"
   ]
  },
  {
   "cell_type": "code",
   "execution_count": 34,
   "id": "295f14da",
   "metadata": {},
   "outputs": [],
   "source": [
    "lst1.append('nepal')"
   ]
  },
  {
   "cell_type": "code",
   "execution_count": 35,
   "id": "1db9c0bf",
   "metadata": {},
   "outputs": [],
   "source": [
    "lst1.append('america')"
   ]
  },
  {
   "cell_type": "code",
   "execution_count": 36,
   "id": "0f068b4f",
   "metadata": {},
   "outputs": [],
   "source": [
    "lst1.append('python')"
   ]
  },
  {
   "cell_type": "code",
   "execution_count": 37,
   "id": "1beaacd4",
   "metadata": {},
   "outputs": [],
   "source": [
    "lst1.append('2004')"
   ]
  },
  {
   "cell_type": "code",
   "execution_count": 38,
   "id": "bc39b79c",
   "metadata": {},
   "outputs": [
    {
     "data": {
      "text/plain": [
       "['hex', 'nepal', 'america', 'python', '2004']"
      ]
     },
     "execution_count": 38,
     "metadata": {},
     "output_type": "execute_result"
    }
   ],
   "source": [
    "lst1"
   ]
  },
  {
   "cell_type": "code",
   "execution_count": 50,
   "id": "020c84e6",
   "metadata": {},
   "outputs": [],
   "source": [
    "lst1.insert(1,'code') #insert particular position in between the elements\n",
    "#insert new element to any position"
   ]
  },
  {
   "cell_type": "code",
   "execution_count": 51,
   "id": "6be4ef34",
   "metadata": {},
   "outputs": [
    {
     "data": {
      "text/plain": [
       "['hex',\n",
       " 'code',\n",
       " 'code',\n",
       " 'code',\n",
       " 'code',\n",
       " 'code',\n",
       " 'nepal',\n",
       " 'america',\n",
       " 'python',\n",
       " '2004']"
      ]
     },
     "execution_count": 51,
     "metadata": {},
     "output_type": "execute_result"
    }
   ],
   "source": [
    "lst1"
   ]
  },
  {
   "cell_type": "code",
   "execution_count": 53,
   "id": "d1957003",
   "metadata": {},
   "outputs": [],
   "source": [
    "lst1[1]='academy'      #change elements           #running cell twice result double output"
   ]
  },
  {
   "cell_type": "code",
   "execution_count": 59,
   "id": "f78a1078",
   "metadata": {},
   "outputs": [
    {
     "data": {
      "text/plain": [
       "['hex',\n",
       " 'code',\n",
       " 'USA',\n",
       " '2023',\n",
       " 'code',\n",
       " 'code',\n",
       " 'nepal',\n",
       " 'america',\n",
       " 'python',\n",
       " '2004']"
      ]
     },
     "execution_count": 59,
     "metadata": {},
     "output_type": "execute_result"
    }
   ],
   "source": [
    "lst1"
   ]
  },
  {
   "cell_type": "code",
   "execution_count": 64,
   "id": "2c128583",
   "metadata": {},
   "outputs": [
    {
     "data": {
      "text/plain": [
       "['code', 'USA', '2023']"
      ]
     },
     "execution_count": 64,
     "metadata": {},
     "output_type": "execute_result"
    }
   ],
   "source": [
    "lst1[1:4]"
   ]
  },
  {
   "cell_type": "code",
   "execution_count": 65,
   "id": "c1833cf3",
   "metadata": {},
   "outputs": [],
   "source": [
    "lst1[1:4]=['k','a','p']"
   ]
  },
  {
   "cell_type": "code",
   "execution_count": 66,
   "id": "673ecfe9",
   "metadata": {},
   "outputs": [
    {
     "data": {
      "text/plain": [
       "['hex', 'k', 'a', 'p', 'code', 'code', 'nepal', 'america', 'python', '2004']"
      ]
     },
     "execution_count": 66,
     "metadata": {},
     "output_type": "execute_result"
    }
   ],
   "source": [
    "lst1"
   ]
  },
  {
   "cell_type": "code",
   "execution_count": 68,
   "id": "d5cca43c",
   "metadata": {},
   "outputs": [],
   "source": [
    "lst1.remove('hex')               #remove remove elements from list "
   ]
  },
  {
   "cell_type": "code",
   "execution_count": 69,
   "id": "b8ac6036",
   "metadata": {},
   "outputs": [
    {
     "data": {
      "text/plain": [
       "['k', 'a', 'p', 'code', 'code', 'nepal', 'america', 'python', '2004']"
      ]
     },
     "execution_count": 69,
     "metadata": {},
     "output_type": "execute_result"
    }
   ],
   "source": [
    "lst1"
   ]
  },
  {
   "cell_type": "code",
   "execution_count": 70,
   "id": "5e7d4ac0",
   "metadata": {},
   "outputs": [],
   "source": [
    "lst1.clear()                 #clear empty the list"
   ]
  },
  {
   "cell_type": "code",
   "execution_count": 71,
   "id": "5b620f60",
   "metadata": {},
   "outputs": [
    {
     "data": {
      "text/plain": [
       "[]"
      ]
     },
     "execution_count": 71,
     "metadata": {},
     "output_type": "execute_result"
    }
   ],
   "source": [
    "lst1"
   ]
  },
  {
   "cell_type": "code",
   "execution_count": 74,
   "id": "93ce1884",
   "metadata": {},
   "outputs": [
    {
     "data": {
      "text/plain": [
       "[1, 'academy', 3, 'hi', 2.3, 'kri', 'Hexcode']"
      ]
     },
     "execution_count": 74,
     "metadata": {},
     "output_type": "execute_result"
    }
   ],
   "source": [
    "lst"
   ]
  },
  {
   "cell_type": "code",
   "execution_count": 77,
   "id": "e3cbad5b",
   "metadata": {},
   "outputs": [
    {
     "data": {
      "text/plain": [
       "2.3"
      ]
     },
     "execution_count": 77,
     "metadata": {},
     "output_type": "execute_result"
    }
   ],
   "source": [
    "lst.pop()                    #pop means to remove last element"
   ]
  },
  {
   "cell_type": "code",
   "execution_count": 78,
   "id": "31fb58b7",
   "metadata": {},
   "outputs": [
    {
     "data": {
      "text/plain": [
       "[1, 'academy', 3, 'hi']"
      ]
     },
     "execution_count": 78,
     "metadata": {},
     "output_type": "execute_result"
    }
   ],
   "source": [
    "lst"
   ]
  },
  {
   "cell_type": "code",
   "execution_count": 79,
   "id": "d1d45967",
   "metadata": {},
   "outputs": [
    {
     "data": {
      "text/plain": [
       "True"
      ]
     },
     "execution_count": 79,
     "metadata": {},
     "output_type": "execute_result"
    }
   ],
   "source": [
    "1 in lst            # in meaans one element is in the list or not/check a element is in b or not "
   ]
  },
  {
   "cell_type": "code",
   "execution_count": 80,
   "id": "6a260cd5",
   "metadata": {},
   "outputs": [
    {
     "data": {
      "text/plain": [
       "False"
      ]
     },
     "execution_count": 80,
     "metadata": {},
     "output_type": "execute_result"
    }
   ],
   "source": [
    "2 in lst                       #in #notin             to check any elements in list"
   ]
  },
  {
   "cell_type": "code",
   "execution_count": 81,
   "id": "065f04b0",
   "metadata": {},
   "outputs": [
    {
     "data": {
      "text/plain": [
       "True"
      ]
     },
     "execution_count": 81,
     "metadata": {},
     "output_type": "execute_result"
    }
   ],
   "source": [
    "2 not in lst"
   ]
  },
  {
   "cell_type": "code",
   "execution_count": 82,
   "id": "b533016a",
   "metadata": {},
   "outputs": [
    {
     "data": {
      "text/plain": [
       "True"
      ]
     },
     "execution_count": 82,
     "metadata": {},
     "output_type": "execute_result"
    }
   ],
   "source": [
    "'hi' in lst"
   ]
  },
  {
   "cell_type": "markdown",
   "id": "d6baedd4",
   "metadata": {},
   "source": [
    "# Dictionary                     "
   ]
  },
  {
   "cell_type": "markdown",
   "id": "8561bdbb",
   "metadata": {},
   "source": [
    "Dictionary is the collection of  key and value.   key:value\n",
    "It is assign in curly braces dct={}.\n"
   ]
  },
  {
   "cell_type": "code",
   "execution_count": 88,
   "id": "eb08e3b7",
   "metadata": {},
   "outputs": [],
   "source": [
    "info={'Name':'Kritika Basnet','Rollno':7,'college':'Medhavi','Semester': 2,'programe':'BCIS'}"
   ]
  },
  {
   "cell_type": "code",
   "execution_count": 89,
   "id": "4f5aa1bf",
   "metadata": {},
   "outputs": [
    {
     "data": {
      "text/plain": [
       "{'Name': 'Kritika Basnet',\n",
       " 'Rollno': 7,\n",
       " 'college': 'Medhavi',\n",
       " 'Semester': 2,\n",
       " 'programe': 'BCIS'}"
      ]
     },
     "execution_count": 89,
     "metadata": {},
     "output_type": "execute_result"
    }
   ],
   "source": [
    "info"
   ]
  },
  {
   "cell_type": "code",
   "execution_count": 90,
   "id": "f1c044af",
   "metadata": {},
   "outputs": [
    {
     "data": {
      "text/plain": [
       "dict_keys(['Name', 'Rollno', 'college', 'Semester', 'programe'])"
      ]
     },
     "execution_count": 90,
     "metadata": {},
     "output_type": "execute_result"
    }
   ],
   "source": [
    "info.keys()                 #only keys will appear"
   ]
  },
  {
   "cell_type": "code",
   "execution_count": 91,
   "id": "fc03427f",
   "metadata": {},
   "outputs": [
    {
     "data": {
      "text/plain": [
       "'Medhavi'"
      ]
     },
     "execution_count": 91,
     "metadata": {},
     "output_type": "execute_result"
    }
   ],
   "source": [
    "info['college']                          #to know the name of the college"
   ]
  },
  {
   "cell_type": "code",
   "execution_count": 92,
   "id": "aa9122c2",
   "metadata": {},
   "outputs": [
    {
     "name": "stdout",
     "output_type": "stream",
     "text": [
      "{'Name': 'Kritika Basnet', 'Rollno': 7, 'college': 'Medhavi', 'Semester': 2, 'programe': 'BCIS'}\n"
     ]
    }
   ],
   "source": [
    "print(info)"
   ]
  },
  {
   "cell_type": "code",
   "execution_count": 94,
   "id": "e28d8149",
   "metadata": {},
   "outputs": [],
   "source": [
    "info['college']='triton'                         #to  change the values"
   ]
  },
  {
   "cell_type": "code",
   "execution_count": 95,
   "id": "f4deaf07",
   "metadata": {},
   "outputs": [
    {
     "data": {
      "text/plain": [
       "{'Name': 'Kritika Basnet',\n",
       " 'Rollno': 7,\n",
       " 'college': 'triton',\n",
       " 'Semester': 2,\n",
       " 'programe': 'BCIS'}"
      ]
     },
     "execution_count": 95,
     "metadata": {},
     "output_type": "execute_result"
    }
   ],
   "source": [
    "info"
   ]
  },
  {
   "cell_type": "code",
   "execution_count": 96,
   "id": "9884d283",
   "metadata": {},
   "outputs": [
    {
     "data": {
      "text/plain": [
       "dict_values(['Kritika Basnet', 7, 'triton', 2, 'BCIS'])"
      ]
     },
     "execution_count": 96,
     "metadata": {},
     "output_type": "execute_result"
    }
   ],
   "source": [
    "info.values()                                       #values of key will be appeared"
   ]
  },
  {
   "cell_type": "code",
   "execution_count": 97,
   "id": "eda6a08f",
   "metadata": {},
   "outputs": [],
   "source": [
    "info['Remarks']='Topper'                                         #to check whether pass or fail"
   ]
  },
  {
   "cell_type": "code",
   "execution_count": 98,
   "id": "9c60606c",
   "metadata": {},
   "outputs": [
    {
     "data": {
      "text/plain": [
       "{'Name': 'Kritika Basnet',\n",
       " 'Rollno': 7,\n",
       " 'college': 'triton',\n",
       " 'Semester': 2,\n",
       " 'programe': 'BCIS',\n",
       " 'Remarks': 'Topper'}"
      ]
     },
     "execution_count": 98,
     "metadata": {},
     "output_type": "execute_result"
    }
   ],
   "source": [
    "info"
   ]
  },
  {
   "cell_type": "code",
   "execution_count": 100,
   "id": "006736f0",
   "metadata": {},
   "outputs": [
    {
     "data": {
      "text/plain": [
       "'Topper'"
      ]
     },
     "execution_count": 100,
     "metadata": {},
     "output_type": "execute_result"
    }
   ],
   "source": [
    "info.pop('Remarks')                      #to remove "
   ]
  },
  {
   "cell_type": "code",
   "execution_count": 101,
   "id": "f5223637",
   "metadata": {},
   "outputs": [
    {
     "data": {
      "text/plain": [
       "{'Name': 'Kritika Basnet',\n",
       " 'Rollno': 7,\n",
       " 'college': 'triton',\n",
       " 'Semester': 2,\n",
       " 'programe': 'BCIS'}"
      ]
     },
     "execution_count": 101,
     "metadata": {},
     "output_type": "execute_result"
    }
   ],
   "source": [
    "info"
   ]
  },
  {
   "cell_type": "code",
   "execution_count": 106,
   "id": "a16a2620",
   "metadata": {},
   "outputs": [],
   "source": [
    "info.update({'Reg. No':30239202})                       #it works as adder like remarks=topper          "
   ]
  },
  {
   "cell_type": "code",
   "execution_count": 107,
   "id": "4081eb63",
   "metadata": {},
   "outputs": [
    {
     "data": {
      "text/plain": [
       "{'Name': 'Kritika Basnet',\n",
       " 'Rollno': 7,\n",
       " 'college': 'triton',\n",
       " 'Semester': 2,\n",
       " 'programe': 'BCIS',\n",
       " 'Reg. No': 30239202}"
      ]
     },
     "execution_count": 107,
     "metadata": {},
     "output_type": "execute_result"
    }
   ],
   "source": [
    "info"
   ]
  },
  {
   "cell_type": "code",
   "execution_count": 112,
   "id": "4f935fb5",
   "metadata": {},
   "outputs": [
    {
     "data": {
      "text/plain": [
       "30239202"
      ]
     },
     "execution_count": 112,
     "metadata": {},
     "output_type": "execute_result"
    }
   ],
   "source": [
    "info.get('Reg. No')                                     #get also give the values"
   ]
  },
  {
   "cell_type": "markdown",
   "id": "f926d71c",
   "metadata": {},
   "source": [
    "# Tuples"
   ]
  },
  {
   "cell_type": "code",
   "execution_count": 113,
   "id": "2f389576",
   "metadata": {},
   "outputs": [],
   "source": [
    "x=(1,2,3,'hi')                                    #the difference between tuples and list is of  brackets and use for securiyy\n"
   ]
  },
  {
   "cell_type": "code",
   "execution_count": null,
   "id": "8ea67fa3",
   "metadata": {},
   "outputs": [],
   "source": [
    "x.count()"
   ]
  }
 ],
 "metadata": {
  "kernelspec": {
   "display_name": "Python 3 (ipykernel)",
   "language": "python",
   "name": "python3"
  },
  "language_info": {
   "codemirror_mode": {
    "name": "ipython",
    "version": 3
   },
   "file_extension": ".py",
   "mimetype": "text/x-python",
   "name": "python",
   "nbconvert_exporter": "python",
   "pygments_lexer": "ipython3",
   "version": "3.11.1"
  }
 },
 "nbformat": 4,
 "nbformat_minor": 5
}
