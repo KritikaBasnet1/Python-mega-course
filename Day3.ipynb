{
 "cells": [
  {
   "cell_type": "markdown",
   "id": "617394c6",
   "metadata": {},
   "source": [
    "# Operators\n"
   ]
  },
  {
   "cell_type": "markdown",
   "id": "d08878c0",
   "metadata": {},
   "source": [
    "Arithmetic Operators"
   ]
  },
  {
   "cell_type": "code",
   "execution_count": 1,
   "id": "2e636697",
   "metadata": {},
   "outputs": [
    {
     "name": "stdout",
     "output_type": "stream",
     "text": [
      "Enter first number4\n",
      "Enter second number6\n"
     ]
    }
   ],
   "source": [
    "x=float(input('Enter first number'))\n",
    "y=float(input('Enter second number'))"
   ]
  },
  {
   "cell_type": "code",
   "execution_count": 2,
   "id": "e9f89a84",
   "metadata": {},
   "outputs": [],
   "source": [
    "z=x+y"
   ]
  },
  {
   "cell_type": "code",
   "execution_count": 3,
   "id": "24a08057",
   "metadata": {},
   "outputs": [
    {
     "data": {
      "text/plain": [
       "10.0"
      ]
     },
     "execution_count": 3,
     "metadata": {},
     "output_type": "execute_result"
    }
   ],
   "source": [
    "z"
   ]
  },
  {
   "cell_type": "code",
   "execution_count": 4,
   "id": "6f797bb3",
   "metadata": {},
   "outputs": [
    {
     "name": "stdout",
     "output_type": "stream",
     "text": [
      "Enter first number5\n",
      "Enter second number9\n"
     ]
    }
   ],
   "source": [
    "x=float(input('Enter first number'))\n",
    "y=float(input('Enter second number'))"
   ]
  },
  {
   "cell_type": "code",
   "execution_count": 5,
   "id": "a790c725",
   "metadata": {},
   "outputs": [],
   "source": [
    "z=x-y"
   ]
  },
  {
   "cell_type": "code",
   "execution_count": 6,
   "id": "700d3e9a",
   "metadata": {},
   "outputs": [
    {
     "data": {
      "text/plain": [
       "-4.0"
      ]
     },
     "execution_count": 6,
     "metadata": {},
     "output_type": "execute_result"
    }
   ],
   "source": [
    "z"
   ]
  },
  {
   "cell_type": "code",
   "execution_count": 8,
   "id": "b28b0d6b",
   "metadata": {},
   "outputs": [
    {
     "name": "stdout",
     "output_type": "stream",
     "text": [
      "Enter first number5.5\n",
      "Enter second number7.5\n"
     ]
    }
   ],
   "source": [
    "x=float(input('Enter first number'))\n",
    "y=float(input('Enter second number'))"
   ]
  },
  {
   "cell_type": "code",
   "execution_count": 9,
   "id": "9c477a6b",
   "metadata": {},
   "outputs": [],
   "source": [
    "sum1=x+y"
   ]
  },
  {
   "cell_type": "code",
   "execution_count": 10,
   "id": "cbd3f003",
   "metadata": {},
   "outputs": [
    {
     "data": {
      "text/plain": [
       "13.0"
      ]
     },
     "execution_count": 10,
     "metadata": {},
     "output_type": "execute_result"
    }
   ],
   "source": [
    "sum1"
   ]
  },
  {
   "cell_type": "code",
   "execution_count": 11,
   "id": "73d0deeb",
   "metadata": {},
   "outputs": [
    {
     "name": "stdout",
     "output_type": "stream",
     "text": [
      "Enter first number3.4\n",
      "Enter second number5.6\n"
     ]
    }
   ],
   "source": [
    "x=float(input('Enter first number'))\n",
    "y=float(input('Enter second number'))"
   ]
  },
  {
   "cell_type": "code",
   "execution_count": 30,
   "id": "481b0768",
   "metadata": {},
   "outputs": [],
   "source": [
    "Diff=x-y\n",
    "Multiply=x*y\n",
    "Div1=x/y\n",
    "Div2=x//y\n",
    "power=x**y\n",
    "mod=x%y"
   ]
  },
  {
   "cell_type": "code",
   "execution_count": 31,
   "id": "fa0c772e",
   "metadata": {},
   "outputs": [
    {
     "data": {
      "text/plain": [
       "-2.1999999999999997"
      ]
     },
     "execution_count": 31,
     "metadata": {},
     "output_type": "execute_result"
    }
   ],
   "source": [
    "Diff\n"
   ]
  },
  {
   "cell_type": "code",
   "execution_count": 32,
   "id": "751776f8",
   "metadata": {},
   "outputs": [
    {
     "data": {
      "text/plain": [
       "19.04"
      ]
     },
     "execution_count": 32,
     "metadata": {},
     "output_type": "execute_result"
    }
   ],
   "source": [
    "Multiply"
   ]
  },
  {
   "cell_type": "code",
   "execution_count": 33,
   "id": "b7ef428e",
   "metadata": {},
   "outputs": [
    {
     "data": {
      "text/plain": [
       "0.6071428571428572"
      ]
     },
     "execution_count": 33,
     "metadata": {},
     "output_type": "execute_result"
    }
   ],
   "source": [
    "Div1"
   ]
  },
  {
   "cell_type": "code",
   "execution_count": 34,
   "id": "e2a8af5e",
   "metadata": {},
   "outputs": [
    {
     "data": {
      "text/plain": [
       "0.0"
      ]
     },
     "execution_count": 34,
     "metadata": {},
     "output_type": "execute_result"
    }
   ],
   "source": [
    "Div2"
   ]
  },
  {
   "cell_type": "code",
   "execution_count": 37,
   "id": "13033e87",
   "metadata": {},
   "outputs": [
    {
     "data": {
      "text/plain": [
       "946.8516393537748"
      ]
     },
     "execution_count": 37,
     "metadata": {},
     "output_type": "execute_result"
    }
   ],
   "source": [
    "power"
   ]
  },
  {
   "cell_type": "code",
   "execution_count": 38,
   "id": "1cfd9b5f",
   "metadata": {},
   "outputs": [
    {
     "data": {
      "text/plain": [
       "3.4"
      ]
     },
     "execution_count": 38,
     "metadata": {},
     "output_type": "execute_result"
    }
   ],
   "source": [
    "mod"
   ]
  },
  {
   "cell_type": "markdown",
   "id": "adc0ed93",
   "metadata": {},
   "source": [
    "Assignment Operators"
   ]
  },
  {
   "cell_type": "code",
   "execution_count": 41,
   "id": "f0891feb",
   "metadata": {},
   "outputs": [
    {
     "name": "stdout",
     "output_type": "stream",
     "text": [
      "Enter the number5\n"
     ]
    }
   ],
   "source": [
    "x=int(input('Enter the number'))"
   ]
  },
  {
   "cell_type": "code",
   "execution_count": 42,
   "id": "53d88d58",
   "metadata": {},
   "outputs": [],
   "source": [
    "x+=4"
   ]
  },
  {
   "cell_type": "code",
   "execution_count": 44,
   "id": "cff3e100",
   "metadata": {},
   "outputs": [
    {
     "data": {
      "text/plain": [
       "9"
      ]
     },
     "execution_count": 44,
     "metadata": {},
     "output_type": "execute_result"
    }
   ],
   "source": [
    "x"
   ]
  },
  {
   "cell_type": "code",
   "execution_count": 45,
   "id": "347dd3d5",
   "metadata": {},
   "outputs": [],
   "source": [
    "x-=5"
   ]
  },
  {
   "cell_type": "code",
   "execution_count": 47,
   "id": "73abfdc9",
   "metadata": {},
   "outputs": [
    {
     "data": {
      "text/plain": [
       "4"
      ]
     },
     "execution_count": 47,
     "metadata": {},
     "output_type": "execute_result"
    }
   ],
   "source": [
    "x"
   ]
  },
  {
   "cell_type": "code",
   "execution_count": 48,
   "id": "95a94214",
   "metadata": {},
   "outputs": [],
   "source": [
    "x*=10"
   ]
  },
  {
   "cell_type": "code",
   "execution_count": 49,
   "id": "48d6f2d8",
   "metadata": {},
   "outputs": [
    {
     "data": {
      "text/plain": [
       "40"
      ]
     },
     "execution_count": 49,
     "metadata": {},
     "output_type": "execute_result"
    }
   ],
   "source": [
    "x"
   ]
  },
  {
   "cell_type": "code",
   "execution_count": 60,
   "id": "4351a9c6",
   "metadata": {},
   "outputs": [],
   "source": [
    "x/=2"
   ]
  },
  {
   "cell_type": "code",
   "execution_count": 61,
   "id": "a4bacb9d",
   "metadata": {},
   "outputs": [
    {
     "data": {
      "text/plain": [
       "685.8710562414268"
      ]
     },
     "execution_count": 61,
     "metadata": {},
     "output_type": "execute_result"
    }
   ],
   "source": [
    "x"
   ]
  },
  {
   "cell_type": "code",
   "execution_count": 62,
   "id": "44d7c531",
   "metadata": {},
   "outputs": [],
   "source": [
    "x%=15"
   ]
  },
  {
   "cell_type": "code",
   "execution_count": 63,
   "id": "21ebbc4e",
   "metadata": {},
   "outputs": [
    {
     "data": {
      "text/plain": [
       "10.8710562414268"
      ]
     },
     "execution_count": 63,
     "metadata": {},
     "output_type": "execute_result"
    }
   ],
   "source": [
    "x"
   ]
  },
  {
   "cell_type": "code",
   "execution_count": 64,
   "id": "ffcface4",
   "metadata": {},
   "outputs": [],
   "source": [
    "x**=6"
   ]
  },
  {
   "cell_type": "code",
   "execution_count": 65,
   "id": "13384312",
   "metadata": {},
   "outputs": [
    {
     "data": {
      "text/plain": [
       "1650556.7289002936"
      ]
     },
     "execution_count": 65,
     "metadata": {},
     "output_type": "execute_result"
    }
   ],
   "source": [
    "x"
   ]
  },
  {
   "cell_type": "markdown",
   "id": "1b951f6d",
   "metadata": {},
   "source": [
    "Comparison Operators"
   ]
  },
  {
   "cell_type": "code",
   "execution_count": 68,
   "id": "994ab548",
   "metadata": {},
   "outputs": [
    {
     "name": "stdout",
     "output_type": "stream",
     "text": [
      "Enter first number39\n",
      "Enter second number24\n"
     ]
    }
   ],
   "source": [
    "a=float(input('Enter first number'))\n",
    "b=float(input('Enter second number'))"
   ]
  },
  {
   "cell_type": "code",
   "execution_count": 69,
   "id": "ff4973a2",
   "metadata": {},
   "outputs": [
    {
     "data": {
      "text/plain": [
       "False"
      ]
     },
     "execution_count": 69,
     "metadata": {},
     "output_type": "execute_result"
    }
   ],
   "source": [
    "a==b #equals to "
   ]
  },
  {
   "cell_type": "code",
   "execution_count": 70,
   "id": "8d93195c",
   "metadata": {},
   "outputs": [
    {
     "data": {
      "text/plain": [
       "True"
      ]
     },
     "execution_count": 70,
     "metadata": {},
     "output_type": "execute_result"
    }
   ],
   "source": [
    "a>b #greater than"
   ]
  },
  {
   "cell_type": "code",
   "execution_count": 71,
   "id": "eb934b85",
   "metadata": {},
   "outputs": [
    {
     "data": {
      "text/plain": [
       "False"
      ]
     },
     "execution_count": 71,
     "metadata": {},
     "output_type": "execute_result"
    }
   ],
   "source": [
    "a<b #less than"
   ]
  },
  {
   "cell_type": "code",
   "execution_count": 72,
   "id": "11bd4032",
   "metadata": {},
   "outputs": [
    {
     "data": {
      "text/plain": [
       "True"
      ]
     },
     "execution_count": 72,
     "metadata": {},
     "output_type": "execute_result"
    }
   ],
   "source": [
    "a!=b #not equals to"
   ]
  },
  {
   "cell_type": "code",
   "execution_count": 73,
   "id": "c843f2c8",
   "metadata": {},
   "outputs": [
    {
     "data": {
      "text/plain": [
       "False"
      ]
     },
     "execution_count": 73,
     "metadata": {},
     "output_type": "execute_result"
    }
   ],
   "source": [
    "a<=b #less equal to "
   ]
  },
  {
   "cell_type": "code",
   "execution_count": 74,
   "id": "606ca676",
   "metadata": {},
   "outputs": [
    {
     "data": {
      "text/plain": [
       "True"
      ]
     },
     "execution_count": 74,
     "metadata": {},
     "output_type": "execute_result"
    }
   ],
   "source": [
    "a>=b #greater equal to"
   ]
  },
  {
   "cell_type": "markdown",
   "id": "72aac60f",
   "metadata": {},
   "source": [
    "Logical Operators"
   ]
  },
  {
   "cell_type": "code",
   "execution_count": 75,
   "id": "5be860a9",
   "metadata": {},
   "outputs": [
    {
     "data": {
      "text/plain": [
       "False"
      ]
     },
     "execution_count": 75,
     "metadata": {},
     "output_type": "execute_result"
    }
   ],
   "source": [
    "2<3 and 1<0 #and operator"
   ]
  },
  {
   "cell_type": "code",
   "execution_count": 78,
   "id": "1bb929ed",
   "metadata": {},
   "outputs": [
    {
     "data": {
      "text/plain": [
       "True"
      ]
     },
     "execution_count": 78,
     "metadata": {},
     "output_type": "execute_result"
    }
   ],
   "source": [
    "5>4 or 2>4 #or operator"
   ]
  },
  {
   "cell_type": "code",
   "execution_count": 80,
   "id": "6ec9af21",
   "metadata": {},
   "outputs": [
    {
     "data": {
      "text/plain": [
       "True"
      ]
     },
     "execution_count": 80,
     "metadata": {},
     "output_type": "execute_result"
    }
   ],
   "source": [
    "x>10 or y>50 #or operator"
   ]
  },
  {
   "cell_type": "code",
   "execution_count": 81,
   "id": "7d425711",
   "metadata": {},
   "outputs": [
    {
     "data": {
      "text/plain": [
       "True"
      ]
     },
     "execution_count": 81,
     "metadata": {},
     "output_type": "execute_result"
    }
   ],
   "source": [
    "not(2<3 and 1<0) #not operator"
   ]
  },
  {
   "cell_type": "markdown",
   "id": "db97a088",
   "metadata": {},
   "source": [
    "# Data Types"
   ]
  },
  {
   "cell_type": "markdown",
   "id": "f99aa20c",
   "metadata": {},
   "source": [
    "String"
   ]
  },
  {
   "cell_type": "code",
   "execution_count": 82,
   "id": "e9209ea0",
   "metadata": {},
   "outputs": [],
   "source": [
    "x='I am a Python Developer'"
   ]
  },
  {
   "cell_type": "code",
   "execution_count": 83,
   "id": "21c446dd",
   "metadata": {},
   "outputs": [
    {
     "data": {
      "text/plain": [
       "23"
      ]
     },
     "execution_count": 83,
     "metadata": {},
     "output_type": "execute_result"
    }
   ],
   "source": [
    "len(x)"
   ]
  },
  {
   "cell_type": "code",
   "execution_count": 84,
   "id": "8adb017e",
   "metadata": {},
   "outputs": [
    {
     "data": {
      "text/plain": [
       "'P'"
      ]
     },
     "execution_count": 84,
     "metadata": {},
     "output_type": "execute_result"
    }
   ],
   "source": [
    "x[7]"
   ]
  },
  {
   "cell_type": "code",
   "execution_count": 86,
   "id": "ea84c9a1",
   "metadata": {},
   "outputs": [
    {
     "data": {
      "text/plain": [
       "'Python'"
      ]
     },
     "execution_count": 86,
     "metadata": {},
     "output_type": "execute_result"
    }
   ],
   "source": [
    "x[7:13]"
   ]
  },
  {
   "cell_type": "code",
   "execution_count": 90,
   "id": "1b99ffa4",
   "metadata": {},
   "outputs": [
    {
     "data": {
      "text/plain": [
       "'Developer'"
      ]
     },
     "execution_count": 90,
     "metadata": {},
     "output_type": "execute_result"
    }
   ],
   "source": [
    "x[14:23]"
   ]
  },
  {
   "cell_type": "code",
   "execution_count": 91,
   "id": "a9606316",
   "metadata": {},
   "outputs": [
    {
     "data": {
      "text/plain": [
       "'Python Developer'"
      ]
     },
     "execution_count": 91,
     "metadata": {},
     "output_type": "execute_result"
    }
   ],
   "source": [
    "x[7::]"
   ]
  },
  {
   "cell_type": "code",
   "execution_count": 94,
   "id": "921fffae",
   "metadata": {},
   "outputs": [
    {
     "data": {
      "text/plain": [
       "'velope'"
      ]
     },
     "execution_count": 94,
     "metadata": {},
     "output_type": "execute_result"
    }
   ],
   "source": [
    "x[-7:-1]"
   ]
  },
  {
   "cell_type": "code",
   "execution_count": 95,
   "id": "a8df83f6",
   "metadata": {},
   "outputs": [
    {
     "data": {
      "text/plain": [
       "'repoleveD nohtyP a ma I'"
      ]
     },
     "execution_count": 95,
     "metadata": {},
     "output_type": "execute_result"
    }
   ],
   "source": [
    "x[::-1]"
   ]
  },
  {
   "cell_type": "code",
   "execution_count": 96,
   "id": "b884712f",
   "metadata": {},
   "outputs": [
    {
     "data": {
      "text/plain": [
       "'IPDe'"
      ]
     },
     "execution_count": 96,
     "metadata": {},
     "output_type": "execute_result"
    }
   ],
   "source": [
    "x[::7]"
   ]
  },
  {
   "cell_type": "code",
   "execution_count": 100,
   "id": "6be1b35f",
   "metadata": {},
   "outputs": [
    {
     "name": "stdout",
     "output_type": "stream",
     "text": [
      "Enter your Name Kritika Basnet\n"
     ]
    }
   ],
   "source": [
    "x=input('Enter your Name ')"
   ]
  },
  {
   "cell_type": "code",
   "execution_count": 102,
   "id": "bbc4a23a",
   "metadata": {},
   "outputs": [
    {
     "data": {
      "text/plain": [
       "'tensaB akitirK'"
      ]
     },
     "execution_count": 102,
     "metadata": {},
     "output_type": "execute_result"
    }
   ],
   "source": [
    "x[::-1]"
   ]
  },
  {
   "cell_type": "code",
   "execution_count": 104,
   "id": "0ed2b725",
   "metadata": {},
   "outputs": [],
   "source": [
    "y=x.split()\n"
   ]
  },
  {
   "cell_type": "code",
   "execution_count": 105,
   "id": "87c92174",
   "metadata": {},
   "outputs": [
    {
     "data": {
      "text/plain": [
       "['Kritika', 'Basnet']"
      ]
     },
     "execution_count": 105,
     "metadata": {},
     "output_type": "execute_result"
    }
   ],
   "source": [
    "y"
   ]
  },
  {
   "cell_type": "code",
   "execution_count": 110,
   "id": "196dd4ab",
   "metadata": {},
   "outputs": [],
   "source": [
    "x='I am a Python Developer'"
   ]
  },
  {
   "cell_type": "code",
   "execution_count": 111,
   "id": "4ac461f4",
   "metadata": {},
   "outputs": [],
   "source": [
    "y=x.split()"
   ]
  },
  {
   "cell_type": "code",
   "execution_count": 112,
   "id": "fbef198b",
   "metadata": {},
   "outputs": [
    {
     "data": {
      "text/plain": [
       "['I', 'am', 'a', 'Python', 'Developer']"
      ]
     },
     "execution_count": 112,
     "metadata": {},
     "output_type": "execute_result"
    }
   ],
   "source": [
    "y"
   ]
  },
  {
   "cell_type": "code",
   "execution_count": 113,
   "id": "8c830657",
   "metadata": {},
   "outputs": [],
   "source": [
    "a='I/am/a/python/developer'"
   ]
  },
  {
   "cell_type": "code",
   "execution_count": 116,
   "id": "13bf41eb",
   "metadata": {},
   "outputs": [],
   "source": [
    "b=a.split('/')"
   ]
  },
  {
   "cell_type": "code",
   "execution_count": 119,
   "id": "f3d4901f",
   "metadata": {},
   "outputs": [
    {
     "data": {
      "text/plain": [
       "['I', 'am', 'a', 'python', 'developer']"
      ]
     },
     "execution_count": 119,
     "metadata": {},
     "output_type": "execute_result"
    }
   ],
   "source": [
    "b"
   ]
  },
  {
   "cell_type": "code",
   "execution_count": 120,
   "id": "e1d5bbe2",
   "metadata": {},
   "outputs": [
    {
     "data": {
      "text/plain": [
       "'I am a python developer'"
      ]
     },
     "execution_count": 120,
     "metadata": {},
     "output_type": "execute_result"
    }
   ],
   "source": [
    "x.capitalize()"
   ]
  },
  {
   "cell_type": "code",
   "execution_count": 121,
   "id": "c0d0491e",
   "metadata": {},
   "outputs": [
    {
     "data": {
      "text/plain": [
       "'i am a python developer'"
      ]
     },
     "execution_count": 121,
     "metadata": {},
     "output_type": "execute_result"
    }
   ],
   "source": [
    "x.casefold()"
   ]
  },
  {
   "cell_type": "code",
   "execution_count": 126,
   "id": "5164807d",
   "metadata": {},
   "outputs": [],
   "source": [
    "str1='i am a develeper'"
   ]
  },
  {
   "cell_type": "code",
   "execution_count": 127,
   "id": "76d7028d",
   "metadata": {},
   "outputs": [
    {
     "data": {
      "text/plain": [
       "'I am a develeper'"
      ]
     },
     "execution_count": 127,
     "metadata": {},
     "output_type": "execute_result"
    }
   ],
   "source": [
    "str1.capitalize()"
   ]
  },
  {
   "cell_type": "code",
   "execution_count": 128,
   "id": "c42fd0ac",
   "metadata": {},
   "outputs": [
    {
     "data": {
      "text/plain": [
       "'i am a python developer'"
      ]
     },
     "execution_count": 128,
     "metadata": {},
     "output_type": "execute_result"
    }
   ],
   "source": [
    "x.casefold()"
   ]
  },
  {
   "cell_type": "code",
   "execution_count": 131,
   "id": "0403b442",
   "metadata": {},
   "outputs": [
    {
     "data": {
      "text/plain": [
       "3"
      ]
     },
     "execution_count": 131,
     "metadata": {},
     "output_type": "execute_result"
    }
   ],
   "source": [
    "x.count(\"e\")"
   ]
  },
  {
   "cell_type": "code",
   "execution_count": 132,
   "id": "75937747",
   "metadata": {},
   "outputs": [
    {
     "data": {
      "text/plain": [
       "b'I am a Python Developer'"
      ]
     },
     "execution_count": 132,
     "metadata": {},
     "output_type": "execute_result"
    }
   ],
   "source": [
    "x.encode()"
   ]
  },
  {
   "cell_type": "code",
   "execution_count": 133,
   "id": "b0be3679",
   "metadata": {},
   "outputs": [
    {
     "data": {
      "text/plain": [
       "'I am a Python Developer'"
      ]
     },
     "execution_count": 133,
     "metadata": {},
     "output_type": "execute_result"
    }
   ],
   "source": [
    "x.format()"
   ]
  },
  {
   "cell_type": "code",
   "execution_count": 139,
   "id": "432637d7",
   "metadata": {},
   "outputs": [
    {
     "data": {
      "text/plain": [
       "'   I am a Python Developer    '"
      ]
     },
     "execution_count": 139,
     "metadata": {},
     "output_type": "execute_result"
    }
   ],
   "source": [
    "x.center(30)"
   ]
  },
  {
   "cell_type": "code",
   "execution_count": 140,
   "id": "a7990135",
   "metadata": {},
   "outputs": [
    {
     "data": {
      "text/plain": [
       "False"
      ]
     },
     "execution_count": 140,
     "metadata": {},
     "output_type": "execute_result"
    }
   ],
   "source": [
    "x.isalpha()"
   ]
  },
  {
   "cell_type": "code",
   "execution_count": 141,
   "id": "2dd0949b",
   "metadata": {},
   "outputs": [
    {
     "data": {
      "text/plain": [
       "False"
      ]
     },
     "execution_count": 141,
     "metadata": {},
     "output_type": "execute_result"
    }
   ],
   "source": [
    "x.isalpha()"
   ]
  },
  {
   "cell_type": "code",
   "execution_count": 142,
   "id": "d381fa5f",
   "metadata": {},
   "outputs": [],
   "source": [
    "y='python'"
   ]
  },
  {
   "cell_type": "code",
   "execution_count": 144,
   "id": "8503e108",
   "metadata": {},
   "outputs": [
    {
     "data": {
      "text/plain": [
       "True"
      ]
     },
     "execution_count": 144,
     "metadata": {},
     "output_type": "execute_result"
    }
   ],
   "source": [
    "y.isalpha()"
   ]
  },
  {
   "cell_type": "code",
   "execution_count": 145,
   "id": "b71097d9",
   "metadata": {},
   "outputs": [
    {
     "data": {
      "text/plain": [
       "'PYTHON'"
      ]
     },
     "execution_count": 145,
     "metadata": {},
     "output_type": "execute_result"
    }
   ],
   "source": [
    "y.swapcase()"
   ]
  },
  {
   "cell_type": "code",
   "execution_count": null,
   "id": "ca9fc495",
   "metadata": {},
   "outputs": [],
   "source": []
  }
 ],
 "metadata": {
  "kernelspec": {
   "display_name": "Python 3 (ipykernel)",
   "language": "python",
   "name": "python3"
  },
  "language_info": {
   "codemirror_mode": {
    "name": "ipython",
    "version": 3
   },
   "file_extension": ".py",
   "mimetype": "text/x-python",
   "name": "python",
   "nbconvert_exporter": "python",
   "pygments_lexer": "ipython3",
   "version": "3.11.1"
  }
 },
 "nbformat": 4,
 "nbformat_minor": 5
}
