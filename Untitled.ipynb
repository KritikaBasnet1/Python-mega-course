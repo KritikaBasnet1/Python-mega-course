{
 "cells": [
  {
   "cell_type": "code",
   "execution_count": null,
   "id": "b49ffe32",
   "metadata": {},
   "outputs": [],
   "source": [
    "print('Hello hex')\n"
   ]
  },
  {
   "cell_type": "code",
   "execution_count": null,
   "id": "b678577e",
   "metadata": {},
   "outputs": [],
   "source": []
  }
 ],
 "metadata": {
  "kernelspec": {
   "display_name": "Python 3 (ipykernel)",
   "language": "python",
   "name": "python3"
  }
 },
 "nbformat": 4,
 "nbformat_minor": 5
}
