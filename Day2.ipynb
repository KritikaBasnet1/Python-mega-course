{
 "cells": [
  {
   "cell_type": "code",
   "execution_count": 1,
   "id": "f44a88d0",
   "metadata": {},
   "outputs": [],
   "source": [
    "x='HexCode'"
   ]
  },
  {
   "cell_type": "code",
   "execution_count": 2,
   "id": "50358bdb",
   "metadata": {},
   "outputs": [],
   "source": [
    "y='Nepal'"
   ]
  },
  {
   "cell_type": "code",
   "execution_count": 5,
   "id": "4da85373",
   "metadata": {},
   "outputs": [],
   "source": [
    "z=x+' '+y"
   ]
  },
  {
   "cell_type": "code",
   "execution_count": 6,
   "id": "f0d87606",
   "metadata": {},
   "outputs": [
    {
     "data": {
      "text/plain": [
       "'HexCode Nepal'"
      ]
     },
     "execution_count": 6,
     "metadata": {},
     "output_type": "execute_result"
    }
   ],
   "source": [
    "z"
   ]
  },
  {
   "cell_type": "code",
   "execution_count": 9,
   "id": "8de018d7",
   "metadata": {},
   "outputs": [
    {
     "name": "stdout",
     "output_type": "stream",
     "text": [
      "Enter first nameKritika\n"
     ]
    }
   ],
   "source": [
    "x=input('Enter first name')"
   ]
  },
  {
   "cell_type": "code",
   "execution_count": 10,
   "id": "7104da8f",
   "metadata": {},
   "outputs": [
    {
     "name": "stdout",
     "output_type": "stream",
     "text": [
      "Enter last nameBasnet\n"
     ]
    }
   ],
   "source": [
    "y=input('Enter last name')"
   ]
  },
  {
   "cell_type": "code",
   "execution_count": 11,
   "id": "5cbeb9f4",
   "metadata": {},
   "outputs": [],
   "source": [
    "z=x+' '+y"
   ]
  },
  {
   "cell_type": "code",
   "execution_count": 12,
   "id": "129c733b",
   "metadata": {},
   "outputs": [
    {
     "data": {
      "text/plain": [
       "'Kritika Basnet'"
      ]
     },
     "execution_count": 12,
     "metadata": {},
     "output_type": "execute_result"
    }
   ],
   "source": [
    "z"
   ]
  },
  {
   "cell_type": "code",
   "execution_count": 24,
   "id": "531e8e78",
   "metadata": {},
   "outputs": [
    {
     "name": "stdout",
     "output_type": "stream",
     "text": [
      "Enter your first name:Kritika\n",
      "Enter your last name:Basnet\n"
     ]
    }
   ],
   "source": [
    "f_name=input('Enter your first name:')\n",
    "l_name=input('Enter your last name:')"
   ]
  },
  {
   "cell_type": "code",
   "execution_count": 25,
   "id": "98121f54",
   "metadata": {},
   "outputs": [
    {
     "name": "stdout",
     "output_type": "stream",
     "text": [
      "your name is Kritika Basnet\n"
     ]
    }
   ],
   "source": [
    "print('your name is '+f_name+ ' '+l_name)"
   ]
  },
  {
   "cell_type": "code",
   "execution_count": 30,
   "id": "668ed17f",
   "metadata": {},
   "outputs": [
    {
     "name": "stdout",
     "output_type": "stream",
     "text": [
      "Enter first number7\n",
      "Enter second number8\n"
     ]
    }
   ],
   "source": [
    "x=int(input('Enter first number'))\n",
    "y=int(input('Enter second number'))"
   ]
  },
  {
   "cell_type": "code",
   "execution_count": 31,
   "id": "e771e3ae",
   "metadata": {},
   "outputs": [],
   "source": [
    "z=x+y"
   ]
  },
  {
   "cell_type": "code",
   "execution_count": 35,
   "id": "62e177a2",
   "metadata": {},
   "outputs": [
    {
     "data": {
      "text/plain": [
       "15"
      ]
     },
     "execution_count": 35,
     "metadata": {},
     "output_type": "execute_result"
    }
   ],
   "source": [
    "z"
   ]
  },
  {
   "cell_type": "code",
   "execution_count": 36,
   "id": "d432984a",
   "metadata": {},
   "outputs": [
    {
     "name": "stdout",
     "output_type": "stream",
     "text": [
      "Enter first number: 7\n"
     ]
    }
   ],
   "source": [
    "num1=int(input('Enter first number: '))"
   ]
  },
  {
   "cell_type": "code",
   "execution_count": 37,
   "id": "1a67ae8b",
   "metadata": {},
   "outputs": [
    {
     "name": "stdout",
     "output_type": "stream",
     "text": [
      "Enter second number: 9\n"
     ]
    }
   ],
   "source": [
    "num2=int(input('Enter second number: '))"
   ]
  },
  {
   "cell_type": "code",
   "execution_count": 38,
   "id": "9a5c6fcc",
   "metadata": {},
   "outputs": [],
   "source": [
    "Sum1=num1+num2"
   ]
  },
  {
   "cell_type": "code",
   "execution_count": 39,
   "id": "648cef8c",
   "metadata": {},
   "outputs": [
    {
     "data": {
      "text/plain": [
       "16"
      ]
     },
     "execution_count": 39,
     "metadata": {},
     "output_type": "execute_result"
    }
   ],
   "source": [
    "Sum1"
   ]
  },
  {
   "cell_type": "code",
   "execution_count": 42,
   "id": "aa0fe38a",
   "metadata": {},
   "outputs": [
    {
     "name": "stdout",
     "output_type": "stream",
     "text": [
      "16\n"
     ]
    }
   ],
   "source": [
    "print(Sum1)"
   ]
  },
  {
   "cell_type": "code",
   "execution_count": 71,
   "id": "6fe6c42a",
   "metadata": {},
   "outputs": [
    {
     "name": "stdout",
     "output_type": "stream",
     "text": [
      "Enter first number2\n"
     ]
    }
   ],
   "source": [
    "x=float(input('Enter first number'))"
   ]
  },
  {
   "cell_type": "code",
   "execution_count": 72,
   "id": "4a38c04e",
   "metadata": {},
   "outputs": [
    {
     "name": "stdout",
     "output_type": "stream",
     "text": [
      "Enter second number3\n"
     ]
    }
   ],
   "source": [
    "y=float(input('Enter second number'))"
   ]
  },
  {
   "cell_type": "code",
   "execution_count": 73,
   "id": "909fb683",
   "metadata": {},
   "outputs": [],
   "source": [
    "Diff=x-y"
   ]
  },
  {
   "cell_type": "code",
   "execution_count": 74,
   "id": "f55acd0b",
   "metadata": {},
   "outputs": [
    {
     "data": {
      "text/plain": [
       "-1.0"
      ]
     },
     "execution_count": 74,
     "metadata": {},
     "output_type": "execute_result"
    }
   ],
   "source": [
    "Diff"
   ]
  },
  {
   "cell_type": "code",
   "execution_count": 75,
   "id": "dfe5ad83",
   "metadata": {},
   "outputs": [
    {
     "name": "stdout",
     "output_type": "stream",
     "text": [
      "Enter first number2\n"
     ]
    }
   ],
   "source": [
    "x=float(input('Enter first number'))"
   ]
  },
  {
   "cell_type": "code",
   "execution_count": 76,
   "id": "9996f8cb",
   "metadata": {},
   "outputs": [
    {
     "name": "stdout",
     "output_type": "stream",
     "text": [
      "enter second number3\n"
     ]
    }
   ],
   "source": [
    "y=float(input('enter second number') #this code helps us to inpu second number"
   ]
  },
  {
   "cell_type": "code",
   "execution_count": 77,
   "id": "6fa8e59f",
   "metadata": {},
   "outputs": [],
   "source": [
    "product=x*y"
   ]
  },
  {
   "cell_type": "code",
   "execution_count": 78,
   "id": "685f760c",
   "metadata": {},
   "outputs": [
    {
     "name": "stdout",
     "output_type": "stream",
     "text": [
      "The product is 6.0\n"
     ]
    }
   ],
   "source": [
    "print('The product is',product)"
   ]
  },
  {
   "cell_type": "code",
   "execution_count": 80,
   "id": "a1515dea",
   "metadata": {},
   "outputs": [
    {
     "data": {
      "text/plain": [
       "8.0"
      ]
     },
     "execution_count": 80,
     "metadata": {},
     "output_type": "execute_result"
    }
   ],
   "source": [
    "x**y"
   ]
  },
  {
   "cell_type": "code",
   "execution_count": 81,
   "id": "e7bd7457",
   "metadata": {},
   "outputs": [
    {
     "data": {
      "text/plain": [
       "0.6666666666666666"
      ]
     },
     "execution_count": 81,
     "metadata": {},
     "output_type": "execute_result"
    }
   ],
   "source": [
    "2/3"
   ]
  },
  {
   "cell_type": "code",
   "execution_count": 82,
   "id": "65c9a7df",
   "metadata": {},
   "outputs": [
    {
     "data": {
      "text/plain": [
       "0"
      ]
     },
     "execution_count": 82,
     "metadata": {},
     "output_type": "execute_result"
    }
   ],
   "source": [
    "2//3"
   ]
  },
  {
   "cell_type": "code",
   "execution_count": 83,
   "id": "73c28d4a",
   "metadata": {},
   "outputs": [
    {
     "data": {
      "text/plain": [
       "2"
      ]
     },
     "execution_count": 83,
     "metadata": {},
     "output_type": "execute_result"
    }
   ],
   "source": [
    "2%3"
   ]
  },
  {
   "cell_type": "code",
   "execution_count": null,
   "id": "8a448329",
   "metadata": {},
   "outputs": [],
   "source": []
  }
 ],
 "metadata": {
  "kernelspec": {
   "display_name": "Python 3 (ipykernel)",
   "language": "python",
   "name": "python3"
  },
  "language_info": {
   "codemirror_mode": {
    "name": "ipython",
    "version": 3
   },
   "file_extension": ".py",
   "mimetype": "text/x-python",
   "name": "python",
   "nbconvert_exporter": "python",
   "pygments_lexer": "ipython3",
   "version": "3.11.1"
  }
 },
 "nbformat": 4,
 "nbformat_minor": 5
}
