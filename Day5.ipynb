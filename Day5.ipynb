{
 "cells": [
  {
   "cell_type": "markdown",
   "id": "2c417ebf",
   "metadata": {},
   "source": [
    "# Tuples Continued"
   ]
  },
  {
   "cell_type": "code",
   "execution_count": 1,
   "id": "1bf1a42b",
   "metadata": {},
   "outputs": [],
   "source": [
    "x=('apple','banana','grapes','apple','apple')                                      "
   ]
  },
  {
   "cell_type": "code",
   "execution_count": 2,
   "id": "c15eb5a9",
   "metadata": {},
   "outputs": [
    {
     "data": {
      "text/plain": [
       "('apple', 'banana', 'grapes', 'apple', 'apple')"
      ]
     },
     "execution_count": 2,
     "metadata": {},
     "output_type": "execute_result"
    }
   ],
   "source": [
    "x"
   ]
  },
  {
   "cell_type": "code",
   "execution_count": 3,
   "id": "c755b9df",
   "metadata": {},
   "outputs": [
    {
     "data": {
      "text/plain": [
       "5"
      ]
     },
     "execution_count": 3,
     "metadata": {},
     "output_type": "execute_result"
    }
   ],
   "source": [
    "len(x)"
   ]
  },
  {
   "cell_type": "code",
   "execution_count": 5,
   "id": "c97c7214",
   "metadata": {},
   "outputs": [
    {
     "data": {
      "text/plain": [
       "'grapes'"
      ]
     },
     "execution_count": 5,
     "metadata": {},
     "output_type": "execute_result"
    }
   ],
   "source": [
    " x[2]                                     #0,1,2"
   ]
  },
  {
   "cell_type": "code",
   "execution_count": 6,
   "id": "e055018c",
   "metadata": {},
   "outputs": [
    {
     "data": {
      "text/plain": [
       "('grapes', 'apple', 'apple')"
      ]
     },
     "execution_count": 6,
     "metadata": {},
     "output_type": "execute_result"
    }
   ],
   "source": [
    "x[2:5]"
   ]
  },
  {
   "cell_type": "code",
   "execution_count": 7,
   "id": "4cffdaff",
   "metadata": {},
   "outputs": [],
   "source": [
    "y=list(x)"
   ]
  },
  {
   "cell_type": "code",
   "execution_count": 8,
   "id": "c95f62b8",
   "metadata": {},
   "outputs": [
    {
     "data": {
      "text/plain": [
       "['apple', 'banana', 'grapes', 'apple', 'apple']"
      ]
     },
     "execution_count": 8,
     "metadata": {},
     "output_type": "execute_result"
    }
   ],
   "source": [
    "y"
   ]
  },
  {
   "cell_type": "code",
   "execution_count": 9,
   "id": "bd749258",
   "metadata": {},
   "outputs": [],
   "source": [
    "y[2]=\"papaya\""
   ]
  },
  {
   "cell_type": "code",
   "execution_count": 10,
   "id": "182b2d8c",
   "metadata": {},
   "outputs": [
    {
     "data": {
      "text/plain": [
       "['apple', 'banana', 'papaya', 'apple', 'apple']"
      ]
     },
     "execution_count": 10,
     "metadata": {},
     "output_type": "execute_result"
    }
   ],
   "source": [
    "y"
   ]
  },
  {
   "cell_type": "code",
   "execution_count": 11,
   "id": "e31979f7",
   "metadata": {},
   "outputs": [],
   "source": [
    "x=tuple(y)                                                              #changes the list into tuple"
   ]
  },
  {
   "cell_type": "code",
   "execution_count": 12,
   "id": "3165fae9",
   "metadata": {},
   "outputs": [
    {
     "data": {
      "text/plain": [
       "('apple', 'banana', 'papaya', 'apple', 'apple')"
      ]
     },
     "execution_count": 12,
     "metadata": {},
     "output_type": "execute_result"
    }
   ],
   "source": [
    "x"
   ]
  },
  {
   "cell_type": "code",
   "execution_count": 13,
   "id": "5af6b650",
   "metadata": {},
   "outputs": [],
   "source": [
    "y.remove('apple')"
   ]
  },
  {
   "cell_type": "code",
   "execution_count": 14,
   "id": "dc9b4389",
   "metadata": {},
   "outputs": [
    {
     "data": {
      "text/plain": [
       "['banana', 'papaya', 'apple', 'apple']"
      ]
     },
     "execution_count": 14,
     "metadata": {},
     "output_type": "execute_result"
    }
   ],
   "source": [
    "y"
   ]
  },
  {
   "cell_type": "code",
   "execution_count": 15,
   "id": "92688463",
   "metadata": {},
   "outputs": [],
   "source": [
    "y.remove('banana')"
   ]
  },
  {
   "cell_type": "code",
   "execution_count": 16,
   "id": "ce3c5b1e",
   "metadata": {},
   "outputs": [
    {
     "data": {
      "text/plain": [
       "['papaya', 'apple', 'apple']"
      ]
     },
     "execution_count": 16,
     "metadata": {},
     "output_type": "execute_result"
    }
   ],
   "source": [
    "y"
   ]
  },
  {
   "cell_type": "code",
   "execution_count": 17,
   "id": "3bf3435c",
   "metadata": {},
   "outputs": [
    {
     "data": {
      "text/plain": [
       "tuple"
      ]
     },
     "execution_count": 17,
     "metadata": {},
     "output_type": "execute_result"
    }
   ],
   "source": [
    "type(x)"
   ]
  },
  {
   "cell_type": "code",
   "execution_count": 18,
   "id": "0ecf4407",
   "metadata": {},
   "outputs": [],
   "source": [
    "z=('hexcode')"
   ]
  },
  {
   "cell_type": "code",
   "execution_count": 19,
   "id": "7a0bc92e",
   "metadata": {},
   "outputs": [
    {
     "data": {
      "text/plain": [
       "str"
      ]
     },
     "execution_count": 19,
     "metadata": {},
     "output_type": "execute_result"
    }
   ],
   "source": [
    "type(z)"
   ]
  },
  {
   "cell_type": "code",
   "execution_count": 20,
   "id": "b997377f",
   "metadata": {},
   "outputs": [],
   "source": [
    "z=('hexcode',)"
   ]
  },
  {
   "cell_type": "code",
   "execution_count": 21,
   "id": "b65f9d2f",
   "metadata": {},
   "outputs": [
    {
     "data": {
      "text/plain": [
       "tuple"
      ]
     },
     "execution_count": 21,
     "metadata": {},
     "output_type": "execute_result"
    }
   ],
   "source": [
    "type(z)"
   ]
  },
  {
   "cell_type": "markdown",
   "id": "246b1df0",
   "metadata": {},
   "source": [
    "# SET"
   ]
  },
  {
   "cell_type": "code",
   "execution_count": 22,
   "id": "9d6b0b99",
   "metadata": {},
   "outputs": [],
   "source": [
    "s1={1,2,3,4,5,6}"
   ]
  },
  {
   "cell_type": "code",
   "execution_count": 23,
   "id": "98a0ad18",
   "metadata": {},
   "outputs": [
    {
     "data": {
      "text/plain": [
       "set"
      ]
     },
     "execution_count": 23,
     "metadata": {},
     "output_type": "execute_result"
    }
   ],
   "source": [
    "type(s1)"
   ]
  },
  {
   "cell_type": "code",
   "execution_count": 24,
   "id": "cfd923ae",
   "metadata": {},
   "outputs": [],
   "source": [
    "s2={1,1,1,2,3,4,5,6,6,6,6,7,7}"
   ]
  },
  {
   "cell_type": "code",
   "execution_count": 25,
   "id": "0a732054",
   "metadata": {},
   "outputs": [
    {
     "data": {
      "text/plain": [
       "{1, 2, 3, 4, 5, 6, 7}"
      ]
     },
     "execution_count": 25,
     "metadata": {},
     "output_type": "execute_result"
    }
   ],
   "source": [
    "s2                                           #set doesnot allow duplication"
   ]
  },
  {
   "cell_type": "code",
   "execution_count": 27,
   "id": "a721658f",
   "metadata": {},
   "outputs": [
    {
     "data": {
      "text/plain": [
       "6"
      ]
     },
     "execution_count": 27,
     "metadata": {},
     "output_type": "execute_result"
    }
   ],
   "source": [
    "len(s1)"
   ]
  },
  {
   "cell_type": "code",
   "execution_count": 28,
   "id": "9367423b",
   "metadata": {},
   "outputs": [
    {
     "data": {
      "text/plain": [
       "7"
      ]
     },
     "execution_count": 28,
     "metadata": {},
     "output_type": "execute_result"
    }
   ],
   "source": [
    "len(s2)"
   ]
  },
  {
   "cell_type": "code",
   "execution_count": 29,
   "id": "1940e67c",
   "metadata": {},
   "outputs": [],
   "source": [
    "s2.add('hi')                                           #you can add or remove but cannot change or indexing in set "
   ]
  },
  {
   "cell_type": "code",
   "execution_count": 30,
   "id": "7f68734b",
   "metadata": {},
   "outputs": [
    {
     "data": {
      "text/plain": [
       "{1, 2, 3, 4, 5, 6, 7, 'hi'}"
      ]
     },
     "execution_count": 30,
     "metadata": {},
     "output_type": "execute_result"
    }
   ],
   "source": [
    "s2"
   ]
  },
  {
   "cell_type": "code",
   "execution_count": 32,
   "id": "f18cc2f4",
   "metadata": {},
   "outputs": [],
   "source": [
    "s2.remove(6)"
   ]
  },
  {
   "cell_type": "code",
   "execution_count": 33,
   "id": "cf9ab9ff",
   "metadata": {},
   "outputs": [
    {
     "data": {
      "text/plain": [
       "{1, 2, 3, 4, 5, 7, 'hi'}"
      ]
     },
     "execution_count": 33,
     "metadata": {},
     "output_type": "execute_result"
    }
   ],
   "source": [
    "s2                                                                #only excessible in loop if you want to print"
   ]
  },
  {
   "cell_type": "code",
   "execution_count": 34,
   "id": "5eb655f6",
   "metadata": {},
   "outputs": [
    {
     "name": "stdout",
     "output_type": "stream",
     "text": [
      "hi\n",
      "1\n",
      "2\n",
      "3\n",
      "4\n",
      "5\n",
      "7\n"
     ]
    }
   ],
   "source": [
    "for i in s2:\n",
    "    print(i)"
   ]
  },
  {
   "cell_type": "code",
   "execution_count": 43,
   "id": "8eead72c",
   "metadata": {},
   "outputs": [],
   "source": [
    "a=list(s2)"
   ]
  },
  {
   "cell_type": "code",
   "execution_count": 46,
   "id": "e70405aa",
   "metadata": {},
   "outputs": [
    {
     "data": {
      "text/plain": [
       "[1, 2, 3, 4, 5, 'hexcode']"
      ]
     },
     "execution_count": 46,
     "metadata": {},
     "output_type": "execute_result"
    }
   ],
   "source": [
    "a"
   ]
  },
  {
   "cell_type": "code",
   "execution_count": 47,
   "id": "4e089a28",
   "metadata": {},
   "outputs": [],
   "source": [
    "a[-1]='hello World'"
   ]
  },
  {
   "cell_type": "code",
   "execution_count": 48,
   "id": "62d00cd3",
   "metadata": {},
   "outputs": [
    {
     "data": {
      "text/plain": [
       "[1, 2, 3, 4, 5, 'hello World']"
      ]
     },
     "execution_count": 48,
     "metadata": {},
     "output_type": "execute_result"
    }
   ],
   "source": [
    "a"
   ]
  },
  {
   "cell_type": "code",
   "execution_count": 50,
   "id": "8ae3307f",
   "metadata": {},
   "outputs": [],
   "source": [
    "s2=set(a)"
   ]
  },
  {
   "cell_type": "code",
   "execution_count": 51,
   "id": "01e5d08d",
   "metadata": {},
   "outputs": [
    {
     "data": {
      "text/plain": [
       "{1, 2, 3, 4, 5, 'hello World'}"
      ]
     },
     "execution_count": 51,
     "metadata": {},
     "output_type": "execute_result"
    }
   ],
   "source": [
    "s2"
   ]
  },
  {
   "cell_type": "markdown",
   "id": "8f7f2394",
   "metadata": {},
   "source": [
    "# If Else Statement"
   ]
  },
  {
   "cell_type": "code",
   "execution_count": 52,
   "id": "9fce384c",
   "metadata": {},
   "outputs": [
    {
     "name": "stdout",
     "output_type": "stream",
     "text": [
      "Enter any number:5\n"
     ]
    }
   ],
   "source": [
    "x=int(input('Enter any number:'))                                        \n",
    " \n",
    "    \n",
    "\n"
   ]
  },
  {
   "cell_type": "code",
   "execution_count": 54,
   "id": "9838bc58",
   "metadata": {},
   "outputs": [
    {
     "name": "stdout",
     "output_type": "stream",
     "text": [
      "number is odd\n"
     ]
    }
   ],
   "source": [
    "if x%2==0:\n",
    "    print('number is even')\n",
    "else:\n",
    "    print('number is odd')"
   ]
  },
  {
   "cell_type": "code",
   "execution_count": 66,
   "id": "f781f88e",
   "metadata": {},
   "outputs": [
    {
     "name": "stdout",
     "output_type": "stream",
     "text": [
      "Enter any Number:2.4\n"
     ]
    }
   ],
   "source": [
    "x=float(input('Enter any Number:'))"
   ]
  },
  {
   "cell_type": "code",
   "execution_count": 70,
   "id": "f93edbf2",
   "metadata": {},
   "outputs": [
    {
     "name": "stdout",
     "output_type": "stream",
     "text": [
      "Enter integer\n"
     ]
    }
   ],
   "source": [
    "if x%2==0:\n",
    "    print('Number is Even')\n",
    "elif x%2==1:\n",
    "    print('Number is Odd')\n",
    "else:\n",
    "    print('Enter integer')"
   ]
  },
  {
   "cell_type": "markdown",
   "id": "14d89e7f",
   "metadata": {},
   "source": [
    "Exercise:\n",
    "    1) Take marks as input from user \n",
    "    2) Classify the division using following reference\n",
    "    i) Marks is greater than equal to 80-Distinction \n",
    "    ii)Greater=60 and less than 80-first division\n",
    "    iii)Greater=40 and less than 60-Second division \n",
    "    iv)less than 40-kaam xaina(FAIL)\n",
    "    v)Else invalid marks"
   ]
  },
  {
   "cell_type": "code",
   "execution_count": 80,
   "id": "c548b918",
   "metadata": {},
   "outputs": [
    {
     "name": "stdout",
     "output_type": "stream",
     "text": [
      "Enter the marks45\n"
     ]
    }
   ],
   "source": [
    "x=int(input('Enter the marks'))"
   ]
  },
  {
   "cell_type": "code",
   "execution_count": 82,
   "id": "777639b0",
   "metadata": {},
   "outputs": [
    {
     "name": "stdout",
     "output_type": "stream",
     "text": [
      "second division\n"
     ]
    }
   ],
   "source": [
    "if x>=80 and marks<=100:\n",
    "    print('Distinction')\n",
    "elif x>=60 and x<=60:\n",
    "    print('first division')\n",
    "elif x>=40 and x<=60:\n",
    "    print('second division')\n",
    "elif x<40:\n",
    "    print('Fail')\n",
    "else:\n",
    "    print('invalid marks')\n"
   ]
  },
  {
   "cell_type": "code",
   "execution_count": null,
   "id": "d88c1330",
   "metadata": {},
   "outputs": [],
   "source": []
  },
  {
   "cell_type": "code",
   "execution_count": null,
   "id": "8eef8f38",
   "metadata": {},
   "outputs": [],
   "source": []
  }
 ],
 "metadata": {
  "kernelspec": {
   "display_name": "Python 3 (ipykernel)",
   "language": "python",
   "name": "python3"
  },
  "language_info": {
   "codemirror_mode": {
    "name": "ipython",
    "version": 3
   },
   "file_extension": ".py",
   "mimetype": "text/x-python",
   "name": "python",
   "nbconvert_exporter": "python",
   "pygments_lexer": "ipython3",
   "version": "3.11.1"
  }
 },
 "nbformat": 4,
 "nbformat_minor": 5
}
